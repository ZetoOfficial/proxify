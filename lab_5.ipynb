{
 "cells": [
  {
   "cell_type": "code",
   "execution_count": 7,
   "metadata": {
    "ExecuteTime": {
     "end_time": "2023-10-31T06:16:01.540788600Z",
     "start_time": "2023-10-31T06:16:01.519783700Z"
    }
   },
   "outputs": [],
   "source": [
    "import pandas as pd\n",
    "import numpy as np\n",
    "import random"
   ]
  },
  {
   "cell_type": "markdown",
   "metadata": {},
   "source": [
    "Считывание данных в DataFrame"
   ]
  },
  {
   "cell_type": "code",
   "execution_count": 8,
   "metadata": {
    "ExecuteTime": {
     "end_time": "2023-10-31T06:16:01.572796200Z",
     "start_time": "2023-10-31T06:16:01.533786900Z"
    }
   },
   "outputs": [
    {
     "data": {
      "text/html": [
       "<div>\n",
       "<style scoped>\n",
       "    .dataframe tbody tr th:only-of-type {\n",
       "        vertical-align: middle;\n",
       "    }\n",
       "\n",
       "    .dataframe tbody tr th {\n",
       "        vertical-align: top;\n",
       "    }\n",
       "\n",
       "    .dataframe thead th {\n",
       "        text-align: right;\n",
       "    }\n",
       "</style>\n",
       "<table border=\"1\" class=\"dataframe\">\n",
       "  <thead>\n",
       "    <tr style=\"text-align: right;\">\n",
       "      <th></th>\n",
       "      <th>Sepal.L</th>\n",
       "      <th>Sepal.W</th>\n",
       "      <th>Petal.L</th>\n",
       "      <th>Petal.W</th>\n",
       "      <th>Kind</th>\n",
       "    </tr>\n",
       "  </thead>\n",
       "  <tbody>\n",
       "    <tr>\n",
       "      <th>0</th>\n",
       "      <td>5.1</td>\n",
       "      <td>3.5</td>\n",
       "      <td>1.4</td>\n",
       "      <td>0.2</td>\n",
       "      <td>Iris-setosa</td>\n",
       "    </tr>\n",
       "    <tr>\n",
       "      <th>1</th>\n",
       "      <td>4.9</td>\n",
       "      <td>3.0</td>\n",
       "      <td>1.4</td>\n",
       "      <td>0.2</td>\n",
       "      <td>Iris-setosa</td>\n",
       "    </tr>\n",
       "    <tr>\n",
       "      <th>2</th>\n",
       "      <td>4.7</td>\n",
       "      <td>3.2</td>\n",
       "      <td>1.3</td>\n",
       "      <td>0.2</td>\n",
       "      <td>Iris-setosa</td>\n",
       "    </tr>\n",
       "    <tr>\n",
       "      <th>3</th>\n",
       "      <td>4.6</td>\n",
       "      <td>3.1</td>\n",
       "      <td>1.5</td>\n",
       "      <td>0.2</td>\n",
       "      <td>Iris-setosa</td>\n",
       "    </tr>\n",
       "    <tr>\n",
       "      <th>4</th>\n",
       "      <td>5.0</td>\n",
       "      <td>3.6</td>\n",
       "      <td>1.4</td>\n",
       "      <td>0.2</td>\n",
       "      <td>Iris-setosa</td>\n",
       "    </tr>\n",
       "    <tr>\n",
       "      <th>...</th>\n",
       "      <td>...</td>\n",
       "      <td>...</td>\n",
       "      <td>...</td>\n",
       "      <td>...</td>\n",
       "      <td>...</td>\n",
       "    </tr>\n",
       "    <tr>\n",
       "      <th>145</th>\n",
       "      <td>6.7</td>\n",
       "      <td>3.0</td>\n",
       "      <td>5.2</td>\n",
       "      <td>2.3</td>\n",
       "      <td>Iris-virginica</td>\n",
       "    </tr>\n",
       "    <tr>\n",
       "      <th>146</th>\n",
       "      <td>6.3</td>\n",
       "      <td>2.5</td>\n",
       "      <td>5.0</td>\n",
       "      <td>1.9</td>\n",
       "      <td>Iris-virginica</td>\n",
       "    </tr>\n",
       "    <tr>\n",
       "      <th>147</th>\n",
       "      <td>6.5</td>\n",
       "      <td>3.0</td>\n",
       "      <td>5.2</td>\n",
       "      <td>2.0</td>\n",
       "      <td>Iris-virginica</td>\n",
       "    </tr>\n",
       "    <tr>\n",
       "      <th>148</th>\n",
       "      <td>6.2</td>\n",
       "      <td>3.4</td>\n",
       "      <td>5.4</td>\n",
       "      <td>2.3</td>\n",
       "      <td>Iris-virginica</td>\n",
       "    </tr>\n",
       "    <tr>\n",
       "      <th>149</th>\n",
       "      <td>5.9</td>\n",
       "      <td>3.0</td>\n",
       "      <td>5.1</td>\n",
       "      <td>1.8</td>\n",
       "      <td>Iris-virginica</td>\n",
       "    </tr>\n",
       "  </tbody>\n",
       "</table>\n",
       "<p>150 rows × 5 columns</p>\n",
       "</div>"
      ],
      "text/plain": [
       "     Sepal.L  Sepal.W  Petal.L  Petal.W           Kind \n",
       "0        5.1      3.5      1.4      0.2     Iris-setosa\n",
       "1        4.9      3.0      1.4      0.2     Iris-setosa\n",
       "2        4.7      3.2      1.3      0.2     Iris-setosa\n",
       "3        4.6      3.1      1.5      0.2     Iris-setosa\n",
       "4        5.0      3.6      1.4      0.2     Iris-setosa\n",
       "..       ...      ...      ...      ...             ...\n",
       "145      6.7      3.0      5.2      2.3  Iris-virginica\n",
       "146      6.3      2.5      5.0      1.9  Iris-virginica\n",
       "147      6.5      3.0      5.2      2.0  Iris-virginica\n",
       "148      6.2      3.4      5.4      2.3  Iris-virginica\n",
       "149      5.9      3.0      5.1      1.8  Iris-virginica\n",
       "\n",
       "[150 rows x 5 columns]"
      ]
     },
     "execution_count": 8,
     "metadata": {},
     "output_type": "execute_result"
    }
   ],
   "source": [
    "df = pd.read_csv('data/iris.csv')\n",
    "df"
   ]
  },
  {
   "cell_type": "code",
   "execution_count": 9,
   "metadata": {
    "ExecuteTime": {
     "end_time": "2023-10-31T06:16:01.595801200Z",
     "start_time": "2023-10-31T06:16:01.549791300Z"
    }
   },
   "outputs": [],
   "source": [
    "def predict(array_predict: [], k = 5, stand = False, weight=None, poll = False):\n",
    "    if weight is None:\n",
    "        weight = [1, 1, 1, 1]\n",
    "\n",
    "    nearestNeighbors = []\n",
    "    \n",
    "    if stand and k > 1:\n",
    "        df['Sepal.L'] = (df['Sepal.L']-df['Sepal.L'].mean ())/df['Sepal.L'].std()\n",
    "        df['Sepal.W'] = (df['Sepal.W']-df['Sepal.W'].mean ())/df['Sepal.W'].std()\n",
    "        df['Petal.L'] = (df['Petal.L']-df['Petal.L'].mean ())/df['Petal.L'].std()\n",
    "        df['Petal.W'] = (df['Petal.W']-df['Petal.W'].mean ())/df['Petal.W'].std()\n",
    "        \n",
    "        array_predict[0] = (array_predict[0]-df['Sepal.L'].mean ())/df['Sepal.L'].std()\n",
    "        array_predict[1] = (array_predict[1]-df['Sepal.W'].mean ())/df['Sepal.W'].std()\n",
    "        array_predict[2] = (array_predict[2]-df['Petal.L'].mean ())/df['Petal.L'].std()\n",
    "        array_predict[3] = (array_predict[3]-df['Petal.W'].mean ())/df['Petal.W'].std()\n",
    "\n",
    "    df['Sepal.L'] = df['Sepal.L'] * weight[0]\n",
    "    df['Sepal.W'] = df['Sepal.W'] * weight[1]\n",
    "    df['Petal.L'] = df['Petal.L'] * weight[2]\n",
    "    df['Petal.W'] = df['Petal.W'] * weight[3]\n",
    "\n",
    "    values = df.values\n",
    "    random.shuffle(values)\n",
    "    for j in values:\n",
    "        dist = np.sqrt((array_predict[0]-j[0])**2 + (array_predict[1]-j[1])**2 + (array_predict[2]-j[2])**2 + (array_predict[3]-j[3])**2)\n",
    "\n",
    "        if (len(nearestNeighbors) < k):\n",
    "            nearestNeighbors.append([dist, j[4]])     \n",
    "        else:\n",
    "            for ne in range(len(nearestNeighbors)):\n",
    "                if nearestNeighbors[ne][0] > dist:\n",
    "                    nearestNeighbors[ne] = [dist, j[4]]\n",
    "                    break\n",
    "        sorted(nearestNeighbors,key=lambda x: x[1])\n",
    "                \n",
    "    k_setosa = 0\n",
    "    k_versicolor = 0\n",
    "    k_virginica = 0\n",
    "    \n",
    "    if not poll:\n",
    "        for i in nearestNeighbors:\n",
    "            if i[1] == 'Iris-setosa':\n",
    "                k_setosa += 1\n",
    "            if i[1] == 'Iris-versicolor':\n",
    "                k_versicolor += 1\n",
    "            if i[1] == 'Iris-virginica':\n",
    "                k_virginica += 1\n",
    "    else:\n",
    "        for i in nearestNeighbors:\n",
    "            if i[1] == 'Iris-setosa':\n",
    "                k_setosa += 1 / (0.5 + i[0]**2)\n",
    "            if i[1] == 'Iris-versicolor':\n",
    "                k_versicolor += 1 / (0.5 + i[0]**2)\n",
    "            if i[1] == 'Iris-virginica':\n",
    "                k_virginica += 1 / (0.5 + i[0]**2)\n",
    "    num = max(k_setosa, k_versicolor, k_virginica)\n",
    "    \n",
    "    if num == k_versicolor:\n",
    "        return 'Iris-versicolor'\n",
    "    if num == k_virginica:\n",
    "        return 'Iris-virginica'\n",
    "    if num == k_setosa:\n",
    "        return 'Iris-setosa'"
   ]
  },
  {
   "cell_type": "markdown",
   "metadata": {},
   "source": [
    "Подбор k"
   ]
  },
  {
   "cell_type": "code",
   "execution_count": 10,
   "metadata": {
    "ExecuteTime": {
     "end_time": "2023-10-31T06:16:12.210756100Z",
     "start_time": "2023-10-31T06:16:01.565794100Z"
    }
   },
   "outputs": [
    {
     "name": "stdout",
     "output_type": "stream",
     "text": [
      "Средний процент правильных ответов: 0.9360000000000002% при k = 1\n",
      "Средний процент правильных ответов: 0.9093333333333333% при k = 2\n",
      "Средний процент правильных ответов: 0.9253333333333333% при k = 3\n",
      "Средний процент правильных ответов: 0.8939999999999999% при k = 4\n",
      "Средний процент правильных ответов: 0.8986666666666668% при k = 5\n",
      "Средний процент правильных ответов: 0.8393333333333335% при k = 6\n",
      "Средний процент правильных ответов: 0.8673333333333334% при k = 7\n",
      "Средний процент правильных ответов: 0.7833333333333332% при k = 8\n",
      "Средний процент правильных ответов: 0.8106666666666665% при k = 9\n"
     ]
    }
   ],
   "source": [
    "for k_i in range(1,10):   \n",
    "    mean_ans = 0\n",
    "\n",
    "    for j in range(10):\n",
    "        k_correct = 0\n",
    "        for i in df.values:\n",
    "            ans = predict(array_predict = [i[0], i[1], i[2], i[3]], k = k_i, poll=False)\n",
    "            if ans == i[4]:\n",
    "                k_correct += 1\n",
    "        mean_ans += k_correct/len(df.values)\n",
    "\n",
    "    print(f\"Средний процент правильных ответов: {mean_ans/10}% при k = {k_i}\")"
   ]
  },
  {
   "cell_type": "code",
   "execution_count": 11,
   "metadata": {
    "ExecuteTime": {
     "end_time": "2023-10-31T06:16:12.337785Z",
     "start_time": "2023-10-31T06:16:12.211756100Z"
    }
   },
   "outputs": [
    {
     "name": "stdout",
     "output_type": "stream",
     "text": [
      "Процент правильных ответов: 0.94%\n"
     ]
    }
   ],
   "source": [
    "k_correct = 0\n",
    "\n",
    "for i in df.values:\n",
    "    ans = predict(array_predict = [i[0], i[1], i[2], i[3]], k = 3, poll=True)\n",
    "    if ans == i[4]:\n",
    "        k_correct += 1\n",
    "\n",
    "print(f\"Процент правильных ответов: {k_correct/len(df.values)}%\")"
   ]
  },
  {
   "cell_type": "markdown",
   "metadata": {},
   "source": [
    "Тест 20 Dop.cs"
   ]
  },
  {
   "cell_type": "code",
   "execution_count": 14,
   "metadata": {
    "ExecuteTime": {
     "end_time": "2023-10-31T06:16:27.680988Z",
     "start_time": "2023-10-31T06:16:27.640978900Z"
    }
   },
   "outputs": [
    {
     "name": "stdout",
     "output_type": "stream",
     "text": [
      "6.0 2.9 4.9 1.6 Iris-versicolor\n",
      "5.2 3.0 2.4 0.5 Iris-setosa\n",
      "5.7 2.8 4.5 1.4 Iris-versicolor\n",
      "5.4 3.4 2.3 0.9 Iris-setosa\n",
      "6.7 3.3 5.4 2.0 Iris-virginica\n",
      "5.9 3.1 4.7 1.4 Iris-versicolor\n",
      "5.9 2.9 4.6 1.7 Iris-versicolor\n",
      "6.5 3.0 4.8 1.8 Iris-versicolor\n",
      "5.5 2.9 2.5 0.5 Iris-setosa\n",
      "6.2 2.9 4.4 1.5 Iris-versicolor\n",
      "5.5 3.0 3.3 0.8 Iris-versicolor\n",
      "4.9 3.0 2.2 0.4 Iris-setosa\n",
      "5.5 3.3 2.5 0.6 Iris-setosa\n",
      "5.1 3.5 2.4 0.5 Iris-setosa\n",
      "5.3 3.4 2.3 0.6 Iris-setosa\n",
      "5.9 2.8 4.4 1.3 Iris-versicolor\n",
      "5.3 3.4 2.5 0.5 Iris-setosa\n",
      "6.5 2.8 5.2 1.9 Iris-versicolor\n",
      "5.6 3.2 2.3 0.3 Iris-setosa\n",
      "5.3 2.7 3.3 0.9 Iris-versicolor\n"
     ]
    }
   ],
   "source": [
    "df_test = pd.read_csv('data/Dop.csv')\n",
    "\n",
    "for i in df_test.values:\n",
    "    ans = predict(array_predict = [i[0], i[1], i[2], i[3]], k = 8, poll=False)\n",
    "    print(i[0], i[1], i[2], i[3], ans)"
   ]
  }
 ],
 "metadata": {
  "kernelspec": {
   "display_name": "Python 3 (ipykernel)",
   "language": "python",
   "name": "python3"
  },
  "language_info": {
   "codemirror_mode": {
    "name": "ipython",
    "version": 3
   },
   "file_extension": ".py",
   "mimetype": "text/x-python",
   "name": "python",
   "nbconvert_exporter": "python",
   "pygments_lexer": "ipython3",
   "version": "3.9.13"
  }
 },
 "nbformat": 4,
 "nbformat_minor": 4
}
